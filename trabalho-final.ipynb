{
 "cells": [
  {
   "cell_type": "markdown",
   "metadata": {},
   "source": [
    "# Trabalho Final GCC108 - Teoria da Computação #\n",
    "\n",
    "Prof.: Douglas H. S. Abreu\n",
    "\n",
    "Nomes:\n",
    "- Iago Manoel Brito de Sá Vaz da Silva\n",
    "- Vinicius Caputo de Castro\n",
    "\n",
    "Turma: 10A\n",
    "\n",
    "Repositório: <https://github.com/iagocq/gcc108-trabalho-final>\n",
    "\n",
    "---"
   ]
  },
  {
   "cell_type": "markdown",
   "metadata": {},
   "source": [
    "# Resolução dos Exercícios"
   ]
  },
  {
   "cell_type": "markdown",
   "metadata": {},
   "source": [
    "#### 1) Descreva com suas palavras uma estratégia para o desenvolvimento de uma máquina de Turing que compute a soma de 2 números binários.\n",
    "\n",
    "No papel, a soma de números binários é realizada dígito a dígito, da direita à esquerda. No entanto, isso é um pouco inconveniente no contexto de máquinas de Turing, visto que a fita é limitada à esquerda, e na soma os resultado cresce nessa direção. Para combater isso, a máquina soma os dígitos dos argumentos na ordem natural, mas escreve o resultado logo após o segundo argumento, na ordem reversa.\n",
    "\n",
    "Para a soma em si, o processo é o seguinte:\n",
    "\n",
    "- Soma um par de dígitos ainda não processado e escreve o resultado. Se essa soma resulta em um carry (vai um, $1+1 = 0$ e um carry), 2 é escrito ao invés disso.\n",
    "\n",
    "- Quando um outro par de dígitos é somado e 2 é encontrado no final do resultado, outra soma é realizada com 1. Se o resultado é maior ou igual a 10, outro carry é colocado na frente do resultado.\n",
    "\n",
    "Para apresentar o resultado, os dois argumentos iniciais são apagados e o resultado é escrito de trás pra frente no início da fita.\n"
   ]
  },
  {
   "cell_type": "markdown",
   "metadata": {},
   "source": [
    "#### 2) Faça o esboço por meio de desenho da máquina de Turing proposta."
   ]
  }
 ],
 "metadata": {
  "kernelspec": {
   "display_name": "Python 3",
   "language": "python",
   "name": "python3"
  },
  "language_info": {
   "codemirror_mode": {
    "name": "ipython",
    "version": 3
   },
   "file_extension": ".py",
   "mimetype": "text/x-python",
   "name": "python",
   "nbconvert_exporter": "python",
   "pygments_lexer": "ipython3",
   "version": "3.10.4"
  }
 },
 "nbformat": 4,
 "nbformat_minor": 4
}
