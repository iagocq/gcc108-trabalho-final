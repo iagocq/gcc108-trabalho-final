{
 "cells": [
  {
   "cell_type": "markdown",
   "metadata": {},
   "source": [
    "# Trabalho Final GCC108 - Teoria da Computação #\n",
    "\n",
    "Prof.: Douglas H. S. Abreu\n",
    "\n",
    "Nomes:\n",
    "- Iago Manoel Brito de Sá Vaz da Silva\n",
    "- Vinicius Caputo de Castro\n",
    "\n",
    "Turma: 10A\n",
    "\n",
    "Repositório: <https://github.com/iagocq/gcc108-trabalho-final>\n",
    "\n",
    "---"
   ]
  },
  {
   "cell_type": "markdown",
   "metadata": {},
   "source": [
    "# Resolução dos Exercícios"
   ]
  },
  {
   "cell_type": "markdown",
   "metadata": {},
   "source": [
    "#### 1) Descreva com suas palavras uma estratégia para o desenvolvimento de uma máquina de Turing que compute a soma de 2 números binários.\n",
    "\n",
    "No papel, a soma de números binários é realizada dígito a dígito, da direita à esquerda. No entanto, isso é um pouco inconveniente no contexto de máquinas de Turing, visto que a fita é limitada à esquerda, e na soma os resultado cresce nessa direção. Para combater isso, a máquina soma os dígitos dos argumentos na ordem natural, mas escreve o resultado logo após o segundo argumento, na ordem reversa.\n",
    "\n",
    "Para a soma em si, o processo é o seguinte:\n",
    "\n",
    "- Soma um par de dígitos ainda não processado e escreve o resultado. Se essa soma resulta em um carry (vai um, $1+1 = 0$ e um carry), 2 é escrito ao invés disso.\n",
    "\n",
    "- Quando um outro par de dígitos é somado e 2 é encontrado no final do resultado, outra soma é realizada com 1. Se o resultado é maior ou igual a 10, outro carry é colocado na frente do resultado.\n",
    "\n",
    "Para apresentar o resultado, os dois argumentos iniciais são apagados e o resultado é escrito de trás pra frente no início da fita.\n"
   ]
  },
  {
   "cell_type": "markdown",
   "metadata": {},
   "source": [
    "#### 2) Faça o esboço por meio de desenho da máquina de Turing proposta.\n",
    "![](Img/soma.png)"
   ]
  },
  {
   "cell_type": "markdown",
   "metadata": {},
   "source": [
    "#### 3) Defina a MT como uma quíntupla $M=(Q, \\Sigma, \\Gamma, \\delta, q_0)$"
   ]
  },
  {
   "cell_type": "code",
   "execution_count": 102,
   "metadata": {},
   "outputs": [],
   "source": [
    "# Transforma arquivo jff de uma máquina em sua representação formal\n",
    "\n",
    "import xml.etree.ElementTree as ET\n",
    "\n",
    "arquivo = 'soma.jff'\n",
    "automato = ET.parse(arquivo).getroot().find('automaton')\n",
    "\n",
    "# conjunto de estados\n",
    "Q = {}\n",
    "# alfabeto de entrada\n",
    "sigma = ['0', '1']\n",
    "# alfabeto da fita\n",
    "gamma = set(sigma)\n",
    "# função de transição\n",
    "delta = []\n",
    "# estado inicial\n",
    "q0 = None\n",
    "\n",
    "for estado in automato.findall('state'):\n",
    "    id = estado.get('id')\n",
    "    nome = estado.get('name')\n",
    "    Q[id] = nome\n",
    "    if estado.find('initial') is not None:\n",
    "        if q0 is not None:\n",
    "            raise ValueError('Existe mais de um estado inicial')\n",
    "        q0 = id\n",
    "\n",
    "for transicao in automato.findall('transition'):\n",
    "    q_i = transicao.findtext('from')\n",
    "    x = transicao.findtext('read')\n",
    "    q_j = transicao.findtext('to')\n",
    "    y = transicao.findtext('write')\n",
    "    D = transicao.findtext('move')\n",
    "    x = x if x else 'B'\n",
    "    y = y if y else 'B'\n",
    "    delta.append(((q_i, x), (q_j, y, D)))\n",
    "    gamma.add(x)\n",
    "    gamma.add(y)\n",
    "\n",
    "delta.sort(key=lambda k: int(Q[k[0][0]][1:]))\n"
   ]
  },
  {
   "cell_type": "code",
   "execution_count": 101,
   "metadata": {},
   "outputs": [
    {
     "data": {
      "text/latex": [
       "$\\displaystyle M = (Q, \\Sigma, \\Gamma, \\delta, q_0) \\\\Q = \\{\\,q0,\\ q1,\\ q2,\\ q3,\\ q4,\\ q5,\\ q6,\\ q7,\\ q8,\\ q9,\\ q10,\\ q11,\\ q12,\\  \\\\ q13,\\ q14,\\ q15,\\ q16,\\ q17,\\ q18,\\ q19,\\ q20,\\ q21,\\ q22,\\ q23,\\ q24,\\ q25,\\  \\\\ q26,\\ q27,\\ q28,\\ q29,\\ q30,\\ q31,\\ q32,\\ q33,\\ q34,\\ q35,\\ q36\\,\\} \\\\\\Sigma = \\{\\, 0, 1 \\,\\} \\\\\\Gamma = \\{\\, 0, X, 1, 2, B \\,\\} \\\\\\delta(q0, B) = (q1, B, R),\\ \\delta(q1, X) = (q2, X, L),\\ \\delta(q1, B) = (q2, B, L),\\ \\\\\\delta(q1, 1) = (q1, 1, R),\\ \\delta(q1, 0) = (q1, 0, R),\\ \\delta(q2, 1) = (q3, X, R),\\ \\\\\\delta(q2, B) = (q15, B, R),\\ \\delta(q2, 0) = (q4, X, R),\\ \\delta(q3, X) = (q3, X, R),\\ \\\\\\delta(q3, B) = (q5, B, R),\\ \\delta(q4, B) = (q6, B, R),\\ \\delta(q4, X) = (q4, X, R),\\ \\\\\\delta(q5, 0) = (q5, 0, R),\\ \\delta(q5, 1) = (q5, 1, R),\\ \\delta(q5, X) = (q7, X, L),\\ \\\\\\delta(q5, B) = (q7, B, L),\\ \\delta(q6, 0) = (q6, 0, R),\\ \\delta(q6, 1) = (q6, 1, R),\\ \\\\\\delta(q6, X) = (q8, X, L),\\ \\delta(q6, B) = (q8, B, L),\\ \\delta(q7, 0) = (q9, X, R),\\ \\\\\\delta(q7, B) = (q9, B, R),\\ \\delta(q7, 1) = (q10, X, R),\\ \\delta(q8, B) = (q11, B, R),\\ \\\\\\delta(q8, 0) = (q11, X, R),\\ \\delta(q8, 1) = (q9, X, R),\\ \\delta(q9, B) = (q13, B, R),\\ \\\\\\delta(q9, X) = (q9, X, R),\\ \\delta(q10, X) = (q10, X, R),\\ \\delta(q10, B) = (q12, B, R),\\ \\\\\\delta(q11, X) = (q11, X, R),\\ \\delta(q11, B) = (q14, B, R),\\ \\delta(q12, 2) = (q16, 1, R),\\ \\\\\\delta(q12, 1) = (q12, 1, R),\\ \\delta(q12, 0) = (q12, 0, R),\\ \\delta(q12, B) = (q16, 0, R),\\ \\\\\\delta(q13, 2) = (q16, 0, R),\\ \\delta(q13, 1) = (q13, 1, R),\\ \\delta(q13, 0) = (q13, 0, R),\\ \\\\\\delta(q13, B) = (q17, 1, L),\\ \\delta(q14, 1) = (q14, 1, R),\\ \\delta(q14, 0) = (q14, 0, R),\\ \\\\\\delta(q14, 2) = (q17, 1, L),\\ \\delta(q14, B) = (q17, 0, L),\\ \\delta(q15, X) = (q15, X, R),\\ \\\\\\delta(q15, B) = (q20, B, R),\\ \\delta(q16, B) = (q17, 2, L),\\ \\delta(q17, 1) = (q17, 1, L),\\ \\\\\\delta(q17, 0) = (q17, 0, L),\\ \\delta(q17, B) = (q18, B, L),\\ \\delta(q18, 0) = (q18, 0, L),\\ \\\\\\delta(q18, 1) = (q18, 1, L),\\ \\delta(q18, X) = (q18, X, L),\\ \\delta(q18, B) = (q19, B, L),\\ \\\\\\delta(q19, B) = (q1, B, R),\\ \\delta(q19, 0) = (q19, 0, L),\\ \\delta(q19, 1) = (q19, 1, L),\\ \\\\\\delta(q19, X) = (q19, X, L),\\ \\delta(q20, 1) = (q20, 1, R),\\ \\delta(q20, 0) = (q20, 0, R),\\ \\\\\\delta(q20, X) = (q21, X, L),\\ \\delta(q20, B) = (q21, B, L),\\ \\delta(q21, 0) = (q11, X, R),\\ \\\\\\delta(q21, B) = (q22, B, R),\\ \\delta(q21, 1) = (q9, X, R),\\ \\delta(q22, B) = (q23, B, L),\\ \\\\\\delta(q22, X) = (q22, X, R),\\ \\delta(q23, B) = (q24, B, L),\\ \\delta(q23, X) = (q23, B, L),\\ \\\\\\delta(q24, B) = (q25, X, R),\\ \\delta(q24, X) = (q24, B, L),\\ \\delta(q25, B) = (q25, B, R),\\ \\\\\\delta(q25, 0) = (q26, 0, R),\\ \\delta(q25, 1) = (q26, 1, R),\\ \\delta(q26, 2) = (q26, 1, R),\\ \\\\\\delta(q26, 1) = (q26, 1, R),\\ \\delta(q26, 0) = (q26, 0, R),\\ \\delta(q26, B) = (q27, B, L),\\ \\\\\\delta(q26, X) = (q27, X, L),\\ \\delta(q27, 1) = (q28, X, L),\\ \\delta(q27, 0) = (q29, X, L),\\ \\\\\\delta(q28, B) = (q31, B, L),\\ \\delta(q28, 0) = (q28, 0, L),\\ \\delta(q28, 1) = (q28, 1, L),\\ \\\\\\delta(q29, 0) = (q29, 0, L),\\ \\delta(q29, 1) = (q29, 1, L),\\ \\delta(q29, B) = (q33, B, L),\\ \\\\\\delta(q30, B) = (q30, B, L),\\ \\delta(q30, X) = (q30, B, R),\\ \\delta(q30, 1) = (q36, 1, L),\\ \\\\\\delta(q30, 0) = (q36, 0, L),\\ \\delta(q31, 0) = (q32, 0, R),\\ \\delta(q31, 1) = (q32, 1, R),\\ \\\\\\delta(q31, X) = (q32, X, R),\\ \\delta(q31, B) = (q31, B, L),\\ \\delta(q32, B) = (q35, 1, R),\\ \\\\\\delta(q33, 0) = (q34, 0, R),\\ \\delta(q33, 1) = (q34, 1, R),\\ \\delta(q33, X) = (q34, X, R),\\ \\\\\\delta(q33, B) = (q33, B, L),\\ \\delta(q34, B) = (q35, 0, R),\\ \\delta(q35, X) = (q30, B, R),\\ \\\\\\delta(q35, B) = (q35, B, R),\\ \\delta(q35, 0) = (q26, 0, R),\\ \\delta(q35, 1) = (q26, 1, R),\\ \\\\\\delta(q36, 1) = (q36, 1, L),\\ \\delta(q36, 0) = (q36, 0, L),\\ \\delta(q36, X) = (q36, B, R)\\\\\\\\ q_0 = q0$"
      ],
      "text/plain": [
       "<IPython.core.display.Math object>"
      ]
     },
     "metadata": {},
     "output_type": "display_data"
    }
   ],
   "source": [
    "from IPython.display import display, Math\n",
    "\n",
    "texto = f'M = (Q, \\Sigma, \\Gamma, \\delta, q_0) \\\\\\\\'\n",
    "\n",
    "estados = Q.values()\n",
    "texto += 'Q = \\{\\,'\n",
    "for i, estado in enumerate(estados):\n",
    "    texto += estado\n",
    "    if i < len(estados)-1:\n",
    "        texto += ',\\ '\n",
    "    if i % 13 == 12:\n",
    "        texto += ' \\\\\\\\ '\n",
    "\n",
    "texto += '\\,\\} \\\\\\\\'\n",
    "\n",
    "texto += f'\\Sigma = \\{{\\, {\", \".join(sigma)} \\,\\}} \\\\\\\\'\n",
    "texto += f'\\Gamma = \\{{\\, {\", \".join(gamma)} \\,\\}} \\\\\\\\'\n",
    "\n",
    "for i, transicao in enumerate(delta):\n",
    "    (q_i, x), (q_j, y, D) = transicao\n",
    "    texto += f'\\delta({Q[q_i]}, {x}) = ({Q[q_j]}, {y}, {D})'\n",
    "    if i < len(delta)-1:\n",
    "        texto += ',\\ '\n",
    "    if i % 3 == 2:\n",
    "        texto += '\\\\\\\\'\n",
    "\n",
    "texto += f'\\\\\\\\ q_0 = {Q[q0]}'\n",
    "\n",
    "display(Math(texto))"
   ]
  },
  {
   "cell_type": "markdown",
   "metadata": {},
   "source": [
    "#### 4) Faça a conversão de $M$ em $R(M)$"
   ]
  },
  {
   "cell_type": "code",
   "execution_count": 105,
   "metadata": {},
   "outputs": [
    {
     "name": "stdout",
     "output_type": "stream",
     "text": [
      "R(M) = 000101111101101111101100110110111011010011011111011101111101001101110110111011001101011010110011101110111101101100111011111011111111111111110111110110011101011111011011001111011011110110110011110111110111111011111011001111101111101111111011111011001111101101111101101100111111010111111010110011111101110111111011101100111111011011111111011010011111101111101111111101111101001111111010111111101011001111111011101111111011101100111111101101111111110110100111111101111101111111110111110100111111110101111111111011011001111111101111101111111111011111011001111111101110111111111110110110011111111101111101111111111110111110110011111111101011111111111101101100111111111011101111111111011011001111111111011111011111111111111011111011001111111111011011111111110110110011111111111011011111111111011011001111111111101111101111111111111011111011001111111111110110111111111111011011001111111111110111110111111111111111011111011001111111111111011110111111111111111110111011001111111111111011101111111111111011101100111111111111101011111111111110101100111111111111101111101111111111111111101011001111111111111101111011111111111111111010110011111111111111011101111111111111101110110011111111111111010111111111111110101100111111111111110111110111111111111111111011101001111111111111110111011111111111111101110110011111111111111101011111111111111101011001111111111111110111101111111111111111110111010011111111111111101111101111111111111111110101001111111111111111011011111111111111110110110011111111111111110111110111111111111111111111011111011001111111111111111101111101111111111111111110111101001111111111111111110111011111111111111111101110100111111111111111111010111111111111111111010100111111111111111111011111011111111111111111110111110100111111111111111111101011111111111111111110101001111111111111111111011101111111111111111111011101001111111111111111111011011111111111111111110110100111111111111111111101111101111111111111111111101111101001111111111111111111101111101101111101100111111111111111111110101111111111111111111101010011111111111111111111011101111111111111111111101110100111111111111111111110110111111111111111111110110100111111111111111111111011101111111111111111111110111011001111111111111111111110101111111111111111111110101100111111111111111111111011011111111111111111111110110100111111111111111111111011111011111111111111111111110111110100111111111111111111111101011111111111101101100111111111111111111111101111101111111111111111111111101111101100111111111111111111111101110111111111101101100111111111111111111111110111110111111111111111111111111011111010011111111111111111111111011011111111111111111111111011011001111111111111111111111110111110111111111111111111111111101111101001111111111111111111111110110111111111111111111111111011111010011111111111111111111111110111110111111111111111111111111110110110011111111111111111111111110110111111111111111111111111101111101001111111111111111111111111101111101111111111111111111111111101111101100111111111111111111111111110101111111111111111111111111110101100111111111111111111111111110111011111111111111111111111111101110110011111111111111111111111111101111011111111111111111111111111101110110011111111111111111111111111101110111111111111111111111111111011101100111111111111111111111111111010111111111111111111111111111010110011111111111111111111111111101111101111111111111111111111111111011111010011111111111111111111111111101101111111111111111111111111111011010011111111111111111111111111110111011111111111111111111111111111011010011111111111111111111111111110101111111111111111111111111111110110100111111111111111111111111111110111110111111111111111111111111111111110111110100111111111111111111111111111110101111111111111111111111111111101010011111111111111111111111111111011101111111111111111111111111111101110100111111111111111111111111111111010111111111111111111111111111111010100111111111111111111111111111111011101111111111111111111111111111110111010011111111111111111111111111111101111101111111111111111111111111111111111011111010011111111111111111111111111111110111110111111111111111111111111111111101111101001111111111111111111111111111111011011111111111111111111111111111110111110110011111111111111111111111111111110111011111111111111111111111111111111111110111010011111111111111111111111111111110101111111111111111111111111111111111111010100111111111111111111111111111111110101111111111111111111111111111111110101100111111111111111111111111111111110111011111111111111111111111111111111101110110011111111111111111111111111111111011011111111111111111111111111111111101101100111111111111111111111111111111110111110111111111111111111111111111111110111110100111111111111111111111111111111111011111011111111111111111111111111111111111101110110011111111111111111111111111111111110101111111111111111111111111111111111101011001111111111111111111111111111111111011101111111111111111111111111111111111101110110011111111111111111111111111111111110110111111111111111111111111111111111110110110011111111111111111111111111111111110111110111111111111111111111111111111111101111101001111111111111111111111111111111111101111101111111111111111111111111111111111110101100111111111111111111111111111111111111011011111111111111111111111111111110111110110011111111111111111111111111111111111101111101111111111111111111111111111111111110111110110011111111111111111111111111111111111101011111111111111111111111111101011001111111111111111111111111111111111110111011111111111111111111111111101110110011111111111111111111111111111111111110111011111111111111111111111111111111111110111010011111111111111111111111111111111111110101111111111111111111111111111111111111010100111111111111111111111111111111111111101101111111111111111111111111111111111111011111011000\n"
     ]
    }
   ],
   "source": [
    "gamma_cod = {g: '1'*(i+1) for i, g in enumerate(gamma)}\n",
    "Q_cod = {q: '1'*(i+1) for i, q in enumerate(Q)}\n",
    "D_cod = {'L': '1', 'R': '11'}\n",
    "\n",
    "r = '000'\n",
    "\n",
    "for i, transicao in enumerate(delta):\n",
    "    (q_i, x), (q_j, y, D) = transicao\n",
    "    r += Q_cod[q_i] + '0' + gamma_cod[x] + '0' + Q_cod[q_j] + '0' + gamma_cod[y] + '0' + D_cod[D]\n",
    "    r += '00'\n",
    "r += '0'\n",
    "\n",
    "print('R(M) = ' + r)"
   ]
  },
  {
   "cell_type": "markdown",
   "metadata": {},
   "source": [
    "#### 5) Desenvolva uma função MTU que receba $R(M)$ acrescido de uma entrada $w$"
   ]
  },
  {
   "cell_type": "code",
   "execution_count": 150,
   "metadata": {},
   "outputs": [
    {
     "data": {
      "text/plain": [
       "'1100101'"
      ]
     },
     "execution_count": 150,
     "metadata": {},
     "output_type": "execute_result"
    }
   ],
   "source": [
    "class Celula:\n",
    "    def __init__(self, L=None, R=None, v='B'):\n",
    "        self.L = L\n",
    "        self.R = R\n",
    "        self.v = v\n",
    "\n",
    "class Fita:\n",
    "    def __init__(self):\n",
    "        self.c = Celula()\n",
    "\n",
    "    def L(self):\n",
    "        if self.c.L is None:\n",
    "            self.c.L = Celula(R=self.c)\n",
    "        self.c = self.c.L\n",
    "\n",
    "    def R(self):\n",
    "        if self.c.R is None:\n",
    "            self.c.R = Celula(L=self.c)\n",
    "        self.c = self.c.R\n",
    "\n",
    "    def ler(self):\n",
    "        return self.c.v\n",
    "\n",
    "    def escrever(self, v):\n",
    "        self.c.v = v\n",
    "\n",
    "def MTU(r: str, w: str):\n",
    "    r = r.split('000')[1]\n",
    "    w = 'B' + 'B'.join(open(w).read().strip().split(';'))\n",
    "    fita = Fita()\n",
    "    for v in w:\n",
    "        fita.escrever(v)\n",
    "        fita.R()\n",
    "\n",
    "    for _ in range(2):\n",
    "        fita.L()\n",
    "        while fita.ler() != 'B':\n",
    "            fita.L()\n",
    "\n",
    "    gamma_decod = {v: k for k, v in gamma_cod.items()}\n",
    "    D_decod = {v: k for k, v in D_cod.items()}\n",
    "\n",
    "    delta = {}\n",
    "\n",
    "    for transicao in r.split('00'):\n",
    "        q_i, x, q_j, y, D = transicao.split('0')\n",
    "        delta[q_i, gamma_decod[x]] = q_j, gamma_decod[y], D_decod[D]\n",
    "\n",
    "    q = Q_cod[q0]\n",
    "    while (q, fita.ler()) in delta:\n",
    "        q, y, D = delta[q, fita.ler()]\n",
    "        fita.escrever(y)\n",
    "        if D == 'L':\n",
    "            fita.L()\n",
    "        else:\n",
    "            fita.R()\n",
    "\n",
    "    fita.R()\n",
    "    res = ''\n",
    "    while fita.ler() != 'B':\n",
    "        res += fita.ler()\n",
    "        fita.R()\n",
    "    return res\n",
    "\n",
    "MTU(r, 'exemplo2.CSV')"
   ]
  },
  {
   "cell_type": "markdown",
   "metadata": {},
   "source": [
    "#### 6-A) Explique a tese de Church-Turing de forma sucinta.\n",
    "\n",
    "As máquinas de Turing são uma formalização de um procedimento efetivo, logo se uma função é computada por uma máquina de turing ela é efetivamente computável.\n",
    "\n",
    "f é computavel por uma máquina de turing $\\Longrightarrow$ f é efetivamente computável\n",
    "\n",
    "A tese de Church-Turing diz: toda \"função naturalmente computável\" pode ser computada por uma máquina de Turing, então a tese faz a \"volta\" da primeira afirmação.\n",
    "\n",
    "f é computavel por uma maquina de turing $\\iff$ f é efetivamente computavel\n"
   ]
  },
  {
   "cell_type": "markdown",
   "metadata": {},
   "source": [
    "#### 6-B) Dada uma máquina de Turing arbitrária $M$ e uma string de entrada $w$, a computação de $M$ com entrada $w$ irá parar em menos de 100 transições? Descreva uma máquina de Turing que resolva esse problema de decisão.\n",
    "\n",
    "Uma máquina de Turing universal recebe a máquina $M$ como $R(M)$ e a executa com entrada $w$, porém limita sua execução a 100 transições. Caso o limite de execução seja ultrapassado, 0 é escrito na fita, senão 1 é escrito."
   ]
  },
  {
   "cell_type": "markdown",
   "metadata": {},
   "source": [
    "#### 6-C) Mostre a solução para cada um dos seguintes sistemas de correspoondência de Post\n",
    "\n",
    "a) (a, aa), (bb, b), (a, bb)\n",
    "\n",
    "aabbbb\n",
    "\n",
    "| 1   | 3     | 2     | 2      |\n",
    "| --- | ----- | ----- | ------ |\n",
    "| a   | aa    | aabb  | aabbbb |   \n",
    "| aa  | aabb  | aabbb | aabbbb |\n",
    "\n",
    "b) (a, ab), (ba, aba), (b, aba), (bba, b)\n",
    "\n",
    "abbaba\n",
    "\n",
    "| 1   | 4     | 2      |\n",
    "| --- | ----- | ------ |\n",
    "| a   | abba  | abbaba |\n",
    "| ab  | abb   | abbaba |\n",
    "\n",
    "c) (abb, ab), (aba, ba), (aab, abab)\n",
    "\n",
    "| 1   | 2     | 2         | 1             |\n",
    "| --- | ---   | ---       | ---           |\n",
    "| abb | abbaba| abbabaaba | abbabaabaabb  |\n",
    "| ab  | abba  | abbaba    | abbabaab      |\n",
    "\n",
    "Como nenhuma peça da parte de baixo começa com aa, não existe solução.\n",
    "\n",
    "d) (ab,aba), (baa, aa), (aba, baa)\n",
    "\n",
    "| 1   | 3     | 3         | 3            |\n",
    "| --- | ---   | ---       | ---          |\n",
    "| ab  | ababa | ababaaba  | ababaabaaba  |\n",
    "| aba | ababaa| ababaabaa | ababaabaabaa |\n",
    "\n",
    "Como a peça 3 é a unica possivel para a sequência ela será a unica usada, mas a palavra nunca chegará ao fim, pois sempre haverá a diferença de 1 caractere entre a palavra 1 e a palavra 2. Logo a correspondencia não tem solução.\n",
    "\n",
    "e) (a, aaa), (aab, b), (abaaa, ab)\n",
    "\n",
    "aaab\n",
    "\n",
    "| 1   | 2    |\n",
    "| --- | ---  |\n",
    "| a   | aaab |\n",
    "| aaa | aaab |\n",
    "\n",
    "\n",
    "f) (ab, bb), (aa, ba), (ab, abb), (bb, bab)\n",
    "\n",
    "| 3   | 4     | 3         | 1             | 4             | 4                 |\n",
    "| --- | ---   | ---       | ---           | ---           | ---               |\n",
    "| ab  | abbb  | abbbab    | abbbabab      | abbbababbb    | abbbababbbbb      |\n",
    "| abb | abbbab| abbbababb | abbbababbbb   | abbbababbbbbab| abbbababbbbbabbab |\n",
    "\n",
    "Como não tem nenhuma peça que seja menor do lado 2 do que do lado 1, a palavra 1 nunca chegará a um fim a partir desse ponto. Logo a correspondencia não tem solução."
   ]
  }
 ],
 "metadata": {
  "kernelspec": {
   "display_name": "Python 3",
   "language": "python",
   "name": "python3"
  },
  "language_info": {
   "codemirror_mode": {
    "name": "ipython",
    "version": 3
   },
   "file_extension": ".py",
   "mimetype": "text/x-python",
   "name": "python",
   "nbconvert_exporter": "python",
   "pygments_lexer": "ipython3",
   "version": "3.10.4"
  }
 },
 "nbformat": 4,
 "nbformat_minor": 4
}
