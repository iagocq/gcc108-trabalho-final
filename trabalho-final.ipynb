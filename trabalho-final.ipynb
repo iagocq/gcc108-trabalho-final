{
 "cells": [
  {
   "cell_type": "markdown",
   "metadata": {},
   "source": [
    "# Trabalho Final GCC108 - Teoria da Computação #\n",
    "\n",
    "Prof.: Douglas H. S. Abreu\n",
    "\n",
    "Nomes:\n",
    "- Iago Manoel Brito de Sá Vaz da Silva\n",
    "- Vinicius Caputo de Castro\n",
    "\n",
    "Turma: 10A\n",
    "\n",
    "Repositório: <https://github.com/iagocq/gcc108-trabalho-final>\n",
    "\n",
    "---"
   ]
  },
  {
   "cell_type": "markdown",
   "metadata": {},
   "source": [
    "# Resolução dos Exercícios"
   ]
  },
  {
   "cell_type": "markdown",
   "metadata": {},
   "source": [
    "#### 1) Descreva com suas palavras uma estratégia para o desenvolvimento de uma máquina de Turing que compute a soma de 2 números binários.\n",
    "\n",
    "No papel, a soma de números binários é realizada dígito a dígito, da direita à esquerda. No entanto, isso é um pouco inconveniente no contexto de máquinas de Turing, visto que a fita é limitada à esquerda, e na soma os números crescem nessa direção.\n",
    "\n",
    "Para resolver isso, o primeiro passo da máquina é inverter os símbolos de cada argumento. O símbolo que estava na direita vai para a esquerda, e vice-versa. Por exemplo, a entrada \"100111 1011011\" se torna \"111001 1101101\".\n",
    "\n",
    "Isso facilitará a soma, pois agora se os números forem somados, o resultado irá crescer para a direita, que tem tamanho infinito. E também, os dígitos de mesma significância estão na mesma posição relativa ao início de cada argumento.\n",
    "\n",
    "Para somar os argumentos, é realizada uma soma dígito por dígito, começando da esquerda e indo para a direita. Cada dígito já contado é trocado por X.\n",
    "\n",
    "O resultado é escrito dígito por dígito à direita do segundo argumento.\n",
    "\n",
    "Ao final disso, o número deve ser movido para o início da fita."
   ]
  },
  {
   "cell_type": "markdown",
   "metadata": {},
   "source": [
    "#### 2) Faça o esboço por meio de desenho da máquina de Turing proposta."
   ]
  }
 ],
 "metadata": {
  "kernelspec": {
   "display_name": "Python 3",
   "language": "python",
   "name": "python3"
  },
  "language_info": {
   "codemirror_mode": {
    "name": "ipython",
    "version": 3
   },
   "file_extension": ".py",
   "mimetype": "text/x-python",
   "name": "python",
   "nbconvert_exporter": "python",
   "pygments_lexer": "ipython3",
   "version": "3.10.4"
  }
 },
 "nbformat": 4,
 "nbformat_minor": 4
}
